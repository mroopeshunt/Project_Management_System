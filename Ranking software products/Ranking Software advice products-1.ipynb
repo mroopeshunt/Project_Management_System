{
 "cells": [
  {
   "cell_type": "markdown",
   "id": "2cd038e8",
   "metadata": {},
   "source": [
    "# Product Ranking based on Review Title, Pros, Cons, Review User Response"
   ]
  },
  {
   "cell_type": "code",
   "execution_count": 1,
   "id": "cafc3194",
   "metadata": {},
   "outputs": [],
   "source": [
    "# importing the necessary libraries\n",
    "import pandas as pd\n",
    "import glob\n",
    "from sentence_transformers import SentenceTransformer, util\n",
    "\n",
    "class ranking_products:\n",
    "    \n",
    "    def __init__(self):\n",
    "        # initializing the SentenceTransformer model to generate embeddings\n",
    "        self.model = SentenceTransformer('sentence-transformers/all-MiniLM-L6-v2')\n",
    "        \n",
    "    def ranking(self, query: str):\n",
    "        products_review_content = []\n",
    "        count = 0\n",
    "        # iterating through each product file and combining multiple reviews of a product\n",
    "        for csv in glob.glob(r\"C:\\\\Users\\\\maganti\\\\OneDrive - UNT System\\\\Documents\\\\Ding Sir Project\\\\Data\\\\SoftwareAdvice\\\\SoftwareAdviceCSVFiles\\\\*\"):\n",
    "            count += 1\n",
    "            # print(count)\n",
    "            data = pd.read_csv(csv)\n",
    "            #print(data.shape)\n",
    "            review_col_data = \"\"\n",
    "            for col in ['Review_title', 'Pros', 'Review User Response', 'Cons']:\n",
    "                for ele in data[col].values:\n",
    "                    if type(ele) == str:\n",
    "                        review_col_data = review_col_data + \" \" + ele\n",
    "            # appending  'Review_title', 'Pros', 'Review User Response', 'Cons' values to this product review content\n",
    "            products_review_content.append(review_col_data)\n",
    "            \n",
    "        # generating embeddings for each product reviews\n",
    "        products_embeddings = [self.model.encode(review, convert_to_tensor=True) for review in products_review_content]\n",
    "        \n",
    "        # generating scores for each product comparing the given query\n",
    "        product_scores = [util.pytorch_cos_sim(embedding, self.model.encode(query, convert_to_tensor=True)) for embedding in products_embeddings]\n",
    "        return product_scores"
   ]
  },
  {
   "cell_type": "code",
   "execution_count": 2,
   "id": "a3eb4a0e",
   "metadata": {},
   "outputs": [],
   "source": [
    "ranks = ranking_products()\n",
    "\n",
    "# passing query from a user to identify the best product suitable for a team\n",
    "product_ranking_scores = ranks.ranking(\"Accounting Manager Technology Very Small team size 2-5\")"
   ]
  },
  {
   "cell_type": "code",
   "execution_count": 5,
   "id": "bff82014",
   "metadata": {},
   "outputs": [
    {
     "data": {
      "text/plain": [
       "0.33471354842185974"
      ]
     },
     "execution_count": 5,
     "metadata": {},
     "output_type": "execute_result"
    }
   ],
   "source": [
    "product_ranking_scores[0].item()"
   ]
  },
  {
   "cell_type": "code",
   "execution_count": null,
   "id": "0bad7a68",
   "metadata": {},
   "outputs": [],
   "source": []
  },
  {
   "cell_type": "markdown",
   "id": "f32f9e8b",
   "metadata": {},
   "source": [
    "# Product Ranking based on Review Title, Pros, Review User Response"
   ]
  },
  {
   "cell_type": "code",
   "execution_count": 7,
   "id": "3a3736ed",
   "metadata": {},
   "outputs": [],
   "source": [
    "import pandas as pd\n",
    "import glob\n",
    "from sentence_transformers import SentenceTransformer, util\n",
    "\n",
    "class ranking_products_1:\n",
    "    \n",
    "    def __init__(self):\n",
    "        # initializing the SentenceTransformer model to generate embeddings\n",
    "        self.model = SentenceTransformer('sentence-transformers/all-MiniLM-L6-v2')\n",
    "        \n",
    "    def ranking(self, query: str):\n",
    "        products_review_content = []\n",
    "        count = 0\n",
    "        # iterating through each product file and combining multiple reviews of a product\n",
    "        for csv in glob.glob(r\"C:\\\\Users\\\\maganti\\\\OneDrive - UNT System\\\\Documents\\\\Ding Sir Project\\\\Data\\\\SoftwareAdvice\\\\SoftwareAdviceCSVFiles\\\\*\"):\n",
    "            count += 1\n",
    "            # print(count)\n",
    "            data = pd.read_csv(csv)\n",
    "            # print(data.shape)\n",
    "            review_col_data = \"\"\n",
    "            for col in ['Review_title', 'Pros', 'Review User Response']:\n",
    "                for ele in data[col].values:\n",
    "                    if type(ele) == str:\n",
    "                        review_col_data = review_col_data + \" \" + ele\n",
    "            # appending  'Review_title', 'Pros', 'Review User Response' values to this product review content\n",
    "            products_review_content.append(review_col_data)\n",
    "        \n",
    "        # generating embeddings for each product reviews\n",
    "        products_embeddings = [self.model.encode(review, convert_to_tensor=True) for review in products_review_content]\n",
    "        \n",
    "        # generating scores for each product comparing the given querys\n",
    "        product_scores = [util.pytorch_cos_sim(embedding, self.model.encode(query, convert_to_tensor=True)) for embedding in products_embeddings]\n",
    "        return product_scores"
   ]
  },
  {
   "cell_type": "code",
   "execution_count": null,
   "id": "5b630aed",
   "metadata": {},
   "outputs": [],
   "source": [
    "ranks_1 = ranking_products_1()\n",
    "product_ranking_scores_1 = ranks_1.ranking(\"Accounting Manager Technology Very Small team size 2-5\")"
   ]
  },
  {
   "cell_type": "code",
   "execution_count": 39,
   "id": "c29adbae",
   "metadata": {},
   "outputs": [
    {
     "data": {
      "text/plain": [
       "0.33471354842185974"
      ]
     },
     "execution_count": 39,
     "metadata": {},
     "output_type": "execute_result"
    }
   ],
   "source": [
    "product_ranking_scores_1[0].item()"
   ]
  },
  {
   "cell_type": "code",
   "execution_count": null,
   "id": "0f5c1645",
   "metadata": {},
   "outputs": [],
   "source": []
  },
  {
   "cell_type": "markdown",
   "id": "b9c64eb0",
   "metadata": {},
   "source": [
    "# Product Ranking based on Cons"
   ]
  },
  {
   "cell_type": "code",
   "execution_count": 40,
   "id": "9969999b",
   "metadata": {},
   "outputs": [],
   "source": [
    "import pandas as pd\n",
    "import glob\n",
    "from sentence_transformers import SentenceTransformer, util\n",
    "\n",
    "class ranking_products_2:\n",
    "    \n",
    "    def __init__(self):\n",
    "        # initializing the SentenceTransformer model to generate embeddings\n",
    "        self.model = SentenceTransformer('sentence-transformers/all-MiniLM-L6-v2')\n",
    "        \n",
    "    def ranking(self, query: str):\n",
    "        products_review_content = []\n",
    "        count = 0\n",
    "        # iterating through each product file and combining multiple reviews of a product\n",
    "        for csv in glob.glob(r\"C:\\\\Users\\\\maganti\\\\OneDrive - UNT System\\\\Documents\\\\Ding Sir Project\\\\Data\\\\SoftwareAdvice\\\\SoftwareAdviceCSVFiles\\\\*\"):\n",
    "            count += 1\n",
    "            # print(count)\n",
    "            data = pd.read_csv(csv)\n",
    "            #print(data.shape)\n",
    "            review_col_data = \"\"\n",
    "            for col in ['Cons']:\n",
    "                for ele in data[col].values:\n",
    "                    if type(ele) == str:\n",
    "                        review_col_data = review_col_data + \" \" + ele\n",
    "            # appending  'Cons' values to this product review content           \n",
    "            products_review_content.append(review_col_data)\n",
    "        \n",
    "        # generating embeddings for each product reviews\n",
    "        products_embeddings = [self.model.encode(review, convert_to_tensor=True) for review in products_review_content]\n",
    "        \n",
    "        # generating scores for each product comparing the given query\n",
    "        product_scores = [util.pytorch_cos_sim(embedding, self.model.encode(query, convert_to_tensor=True)) for embedding in products_embeddings]\n",
    "        return product_scores"
   ]
  },
  {
   "cell_type": "code",
   "execution_count": null,
   "id": "9f948891",
   "metadata": {},
   "outputs": [],
   "source": [
    "ranks_2 = ranking_products_2()\n",
    "product_ranking_scores_2 = ranks_2.ranking(\"Accounting Manager Technology Very Small team size 2-5\")"
   ]
  },
  {
   "cell_type": "code",
   "execution_count": 42,
   "id": "3814d2cc",
   "metadata": {},
   "outputs": [
    {
     "data": {
      "text/plain": [
       "0.1520843505859375"
      ]
     },
     "execution_count": 42,
     "metadata": {},
     "output_type": "execute_result"
    }
   ],
   "source": [
    "product_ranking_scores_2[0].item()"
   ]
  },
  {
   "cell_type": "code",
   "execution_count": null,
   "id": "e8832cbd",
   "metadata": {},
   "outputs": [],
   "source": []
  },
  {
   "cell_type": "markdown",
   "id": "7d58035f",
   "metadata": {},
   "source": [
    "# Generating CSV file including all scores"
   ]
  },
  {
   "cell_type": "code",
   "execution_count": null,
   "id": "f46b39b8",
   "metadata": {},
   "outputs": [],
   "source": [
    "import pandas as pd\n",
    "import os\n",
    "\n",
    "# listing all the products obtained from SoftwareAdvice website\n",
    "products = os.listdir(r\"C:\\\\Users\\\\maganti\\\\OneDrive - UNT System\\\\Documents\\\\Ding Sir Project\\\\Data\\\\SoftwareAdvice\\\\SoftwareAdviceCSVFiles\")\n",
    "df = pd.DataFrame({'Product' : [product.split('.')[0] for product in products[1:]],\n",
    "                   'ReviewTitle+Pros+Cons+ReviewUserResponse-Score' : [tensor.item() for tensor in product_ranking_scores],\n",
    "                   'ReviewTitle+Pros+ReviewUserResponse-Score' : [tensor.item() for tensor in product_ranking_scores_1],\n",
    "                   'Cons-Score' : [tensor.item() for tensor in product_ranking_scores_2]})\n",
    "df"
   ]
  },
  {
   "cell_type": "code",
   "execution_count": 81,
   "id": "ccf66ed5",
   "metadata": {},
   "outputs": [],
   "source": [
    "# creating a csv file of above dataframe\n",
    "df.to_csv(\"Similarity_scores_of_products.csv\", index = False)"
   ]
  },
  {
   "cell_type": "markdown",
   "id": "f41c5e3b",
   "metadata": {},
   "source": [
    "# Descending order of products based on ReviewTitle+Pros+Cons+ReviewUserResponse-Score only"
   ]
  },
  {
   "cell_type": "code",
   "execution_count": null,
   "id": "dbb33a0d",
   "metadata": {},
   "outputs": [],
   "source": [
    "import pandas as pd\n",
    "import os\n",
    "\n",
    "products = os.listdir(r\"C:\\\\Users\\\\maganti\\\\OneDrive - UNT System\\\\Documents\\\\Ding Sir Project\\\\Data\\\\SoftwareAdvice\\\\SoftwareAdviceCSVFiles\")\n",
    "df1 = pd.DataFrame({'Product' : [product.split('.')[0] for product in products[1:]],\n",
    "                   'ReviewTitle+Pros+Cons+ReviewUserResponse-Score' : [tensor.item() for tensor in product_ranking_scores]})\n",
    "df1.sort_values(by = 'ReviewTitle+Pros+Cons+ReviewUserResponse-Score', ascending = False)"
   ]
  },
  {
   "cell_type": "code",
   "execution_count": 82,
   "id": "d8d4c2a1",
   "metadata": {},
   "outputs": [],
   "source": [
    "# creating a csv file of above dataframe\n",
    "df1.to_csv(\"Order_of_products_with_ReviewTitle+Pros+Cons+ReviewUserResponse-Score.csv\", index = False)"
   ]
  },
  {
   "cell_type": "markdown",
   "id": "e188e2e7",
   "metadata": {},
   "source": [
    "# Descending order of products based on ReviewTitle+Pros+ReviewUserResponse-Score only"
   ]
  },
  {
   "cell_type": "code",
   "execution_count": null,
   "id": "5f9d4aa6",
   "metadata": {},
   "outputs": [],
   "source": [
    "import pandas as pd\n",
    "import os\n",
    "\n",
    "products = os.listdir(r\"C:\\\\Users\\\\maganti\\\\OneDrive - UNT System\\\\Documents\\\\Ding Sir Project\\\\Data\\\\SoftwareAdvice\\\\SoftwareAdviceCSVFiles\")\n",
    "df2 = pd.DataFrame({'Product' : [product.split('.')[0] for product in products[1:]],\n",
    "                   'ReviewTitle+Pros+ReviewUserResponse-Score' : [tensor.item() for tensor in product_ranking_scores_1]})\n",
    "df2.sort_values(by = 'ReviewTitle+Pros+ReviewUserResponse-Score', ascending = False)"
   ]
  },
  {
   "cell_type": "code",
   "execution_count": 83,
   "id": "e92cc8a9",
   "metadata": {},
   "outputs": [],
   "source": [
    "# creating a csv file of above dataframe\n",
    "df2.to_csv(\"Order_of_products_with_ReviewTitle+Pros+ReviewUserResponse-Score.csv\", index = False)"
   ]
  },
  {
   "cell_type": "markdown",
   "id": "edb71972",
   "metadata": {},
   "source": [
    "# Descending order of products based on Cons-Score only"
   ]
  },
  {
   "cell_type": "code",
   "execution_count": null,
   "id": "711e59d4",
   "metadata": {},
   "outputs": [],
   "source": [
    "import pandas as pd\n",
    "import os\n",
    "\n",
    "products = os.listdir(r\"C:\\\\Users\\\\maganti\\\\OneDrive - UNT System\\\\Documents\\\\Ding Sir Project\\\\Data\\\\SoftwareAdvice\\\\SoftwareAdviceCSVFiles\")\n",
    "df3 = pd.DataFrame({'Product' : [product.split('.')[0] for product in products[1:]],\n",
    "                   'Cons-Score' : [tensor.item() for tensor in product_ranking_scores_2]})\n",
    "df3.sort_values(by = 'Cons-Score', ascending = False).head(15)"
   ]
  },
  {
   "cell_type": "code",
   "execution_count": 84,
   "id": "8622d88e",
   "metadata": {},
   "outputs": [],
   "source": [
    "# creating a csv file of above dataframe\n",
    "df3.to_csv(\"Order_of_products_with_Cons-Score.csv\", index = False)"
   ]
  },
  {
   "cell_type": "code",
   "execution_count": null,
   "id": "acd1e408",
   "metadata": {},
   "outputs": [],
   "source": []
  }
 ],
 "metadata": {
  "kernelspec": {
   "display_name": "Python 3 (ipykernel)",
   "language": "python",
   "name": "python3"
  },
  "language_info": {
   "codemirror_mode": {
    "name": "ipython",
    "version": 3
   },
   "file_extension": ".py",
   "mimetype": "text/x-python",
   "name": "python",
   "nbconvert_exporter": "python",
   "pygments_lexer": "ipython3",
   "version": "3.9.7"
  }
 },
 "nbformat": 4,
 "nbformat_minor": 5
}
